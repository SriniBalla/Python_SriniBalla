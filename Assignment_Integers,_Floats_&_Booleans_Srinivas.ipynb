{
  "nbformat": 4,
  "nbformat_minor": 0,
  "metadata": {
    "colab": {
      "provenance": [],
      "include_colab_link": true
    },
    "kernelspec": {
      "name": "python3",
      "display_name": "Python 3"
    },
    "language_info": {
      "name": "python"
    }
  },
  "cells": [
    {
      "cell_type": "markdown",
      "metadata": {
        "id": "view-in-github",
        "colab_type": "text"
      },
      "source": [
        "<a href=\"https://colab.research.google.com/github/SriniBalla/Python_SriniBalla/blob/main/Assignment_Integers%2C_Floats_%26_Booleans_Srinivas.ipynb\" target=\"_parent\"><img src=\"https://colab.research.google.com/assets/colab-badge.svg\" alt=\"Open In Colab\"/></a>"
      ]
    },
    {
      "cell_type": "markdown",
      "source": [
        "## <u>While doing this assignment only use those concepts which have been taught till now</u>"
      ],
      "metadata": {
        "id": "wOJGviOQAfOE"
      }
    },
    {
      "cell_type": "markdown",
      "source": [
        "## <u>Problem 1</u>\n",
        "\n",
        "In a cricket tournament, based on the outcome of a particular match a team gets following points:\n",
        "* <code>wins</code> gets <code>3</code> points\n",
        "* <code>draws</code> gets <code>1</code> points\n",
        "* <code>losses</code> gets <code>0</code> points\n",
        "\n",
        "Team Aravali plays <code>8</code> matches in this tournament. It wins <code>4</code> matches, loses <code>3</code> matches and draws <code>1</code>. What is the total number of points gained by the Team Aravali?"
      ],
      "metadata": {
        "id": "bvrZKtd9Ai41"
      }
    },
    {
      "cell_type": "code",
      "execution_count": null,
      "metadata": {
        "id": "9cJdP80fAVcQ",
        "colab": {
          "base_uri": "https://localhost:8080/"
        },
        "outputId": "15c53520-a515-4bb9-b61c-262552c12d79"
      },
      "outputs": [
        {
          "output_type": "stream",
          "name": "stdout",
          "text": [
            "13\n"
          ]
        }
      ],
      "source": [
        "#solution\n",
        "print((4*3)+(3*0)+(1*1))"
      ]
    },
    {
      "cell_type": "markdown",
      "source": [
        "## <u>Problem 2 </u>\n",
        "\n",
        "* Root of a function $f(x)$ is defined as the value $x$ where $f(x)=0$\n",
        "* Consider a quadratic function $ f(x) = x^2 + 3x - 4$\n",
        "\n",
        "### Find the value of the function $f(x)$ at points   $x=2,x=-1, x=1$."
      ],
      "metadata": {
        "id": "uiJ6b1o8ApS0"
      }
    },
    {
      "cell_type": "code",
      "source": [
        "# Calculate the value of the function f(x) at x = 2\n",
        "x=2\n",
        "(x*x)+(3*x)-4\n",
        "\n"
      ],
      "metadata": {
        "id": "lugE0YviAoi0",
        "colab": {
          "base_uri": "https://localhost:8080/"
        },
        "outputId": "ea00d152-42b5-4941-c68b-b664c8891412"
      },
      "execution_count": null,
      "outputs": [
        {
          "output_type": "execute_result",
          "data": {
            "text/plain": [
              "6"
            ]
          },
          "metadata": {},
          "execution_count": 20
        }
      ]
    },
    {
      "cell_type": "code",
      "source": [
        "# Calculate the value of the function f(x) at x = -1\n",
        "x=-1\n",
        "(x*x)+(3*x)-4\n",
        "\n",
        "\n"
      ],
      "metadata": {
        "id": "wGveX9_wAvpR",
        "colab": {
          "base_uri": "https://localhost:8080/"
        },
        "outputId": "4ddd59bf-37dd-433a-ef7f-a1a7c641afb0"
      },
      "execution_count": null,
      "outputs": [
        {
          "output_type": "execute_result",
          "data": {
            "text/plain": [
              "-6"
            ]
          },
          "metadata": {},
          "execution_count": 21
        }
      ]
    },
    {
      "cell_type": "code",
      "source": [
        "# Print the value below\n"
      ],
      "metadata": {
        "id": "6IGXXZMYAxXW"
      },
      "execution_count": null,
      "outputs": []
    },
    {
      "cell_type": "code",
      "source": [
        "# Calculate the value of the function f(x) at x = 1\n",
        "x=1\n",
        "(x*x)+(3*x)-4\n"
      ],
      "metadata": {
        "id": "cZww_eIeAzVH",
        "colab": {
          "base_uri": "https://localhost:8080/"
        },
        "outputId": "9a2700bc-a3f7-4d22-a9a7-da0afb6b3a9c"
      },
      "execution_count": null,
      "outputs": [
        {
          "output_type": "execute_result",
          "data": {
            "text/plain": [
              "0"
            ]
          },
          "metadata": {},
          "execution_count": 22
        }
      ]
    },
    {
      "cell_type": "code",
      "source": [
        "# Check whether 1 is a root of f(x)\n",
        "(x*x)+(3*x)-4"
      ],
      "metadata": {
        "id": "C5_ex6-IA1ia",
        "colab": {
          "base_uri": "https://localhost:8080/"
        },
        "outputId": "20e949a5-d52f-482a-e98e-48628ef694ab"
      },
      "execution_count": null,
      "outputs": [
        {
          "output_type": "execute_result",
          "data": {
            "text/plain": [
              "0"
            ]
          },
          "metadata": {},
          "execution_count": 26
        }
      ]
    },
    {
      "cell_type": "markdown",
      "source": [
        "## <u> Problem 3 </u>\n",
        "\n",
        "A bag contains <code>45</code> apples, <code>65</code> oranges and <code>30</code> bananas. Find the percentage of each type of food items in the bag."
      ],
      "metadata": {
        "id": "GW3l3UpyA5ae"
      }
    },
    {
      "cell_type": "code",
      "source": [
        "# Calculate the percentage of apples and print the variable\n",
        "apple=45\n",
        "oranges=65\n",
        "banana=30\n",
        "x = (apple/140)*100\n",
        "print(x)\n",
        "\n"
      ],
      "metadata": {
        "id": "VTU1oCWSA3OQ",
        "colab": {
          "base_uri": "https://localhost:8080/"
        },
        "outputId": "d3baa9e0-c4b2-4ec6-8e41-f4e4cc67592d"
      },
      "execution_count": null,
      "outputs": [
        {
          "output_type": "stream",
          "name": "stdout",
          "text": [
            "32.142857142857146\n"
          ]
        }
      ]
    },
    {
      "cell_type": "code",
      "source": [
        "# Calculate the percentage of oranges and print the variable\n",
        "apple=45\n",
        "oranges=65\n",
        "banana=30\n",
        "x = (oranges/140)*100\n",
        "print(x)\n"
      ],
      "metadata": {
        "id": "UL9zS4OwA8T5",
        "colab": {
          "base_uri": "https://localhost:8080/"
        },
        "outputId": "41afe119-5e82-4f5c-e91d-5d4ce110e500"
      },
      "execution_count": null,
      "outputs": [
        {
          "output_type": "stream",
          "name": "stdout",
          "text": [
            "46.42857142857143\n"
          ]
        }
      ]
    },
    {
      "cell_type": "markdown",
      "source": [
        "## <u>Problem 4</u>\n",
        "\n",
        "You were playing a fun guessing game during your school break. There were a total of 100 participants excluding you. Out of these 100 people, 30 were Maths Majors, 45 were Economics Majors and 25 were Physics Majors.\n",
        "\n",
        "The game was divided into three rounds.\n",
        "\n",
        "* In the first round, you had to guess the number of Maths Majors and you <b>correctly</b> guessed 20 of them.\n",
        "* In the second round, you had to guess the number of Economics Majors and you <b>correctly</b> guessed 30 of them.\n",
        "* In the final third round, you had to guess the number of Physics Majors and you <b>correctly</b> guessed 20 of them.\n",
        "\n",
        "### Accuracy is defined as the number of correct guesses upon total number of people in the group (expressed in percentage)"
      ],
      "metadata": {
        "id": "P7jGMNNEBG5a"
      }
    },
    {
      "cell_type": "code",
      "source": [
        "#  Store the number of Maths majors\n",
        "MM=30\n",
        "\n",
        "# Store the number of Economics majors\n",
        "EM=45\n",
        "\n",
        "# Store the number of Physics majors\n",
        "PM=25\n",
        "\n",
        "# Store the number of your correct guesses of Maths majors\n",
        "CGM=20\n",
        "\n",
        "# Store the number of your correct guesses of Economics majors\n",
        "CGE=30\n",
        "\n",
        "# Store the number of your correct guesses of Physics majors\n",
        "CGP=20\n"
      ],
      "metadata": {
        "id": "OJK0TG8MA-5x"
      },
      "execution_count": null,
      "outputs": []
    },
    {
      "cell_type": "markdown",
      "source": [
        "* ### Calculate your accuracy in each of the three rounds"
      ],
      "metadata": {
        "id": "x_PHNoa6BR_w"
      }
    },
    {
      "cell_type": "code",
      "source": [
        "# Print the Maths accuracy\n",
        "MM=30\n",
        "CGM=20\n",
        "MathsAccuracy=(CGM/MM)*100\n",
        "print(MathsAccuracy)"
      ],
      "metadata": {
        "id": "cboeuxd9BEog",
        "colab": {
          "base_uri": "https://localhost:8080/"
        },
        "outputId": "329ac086-838d-4e2e-9d80-2bf93d122a4b"
      },
      "execution_count": null,
      "outputs": [
        {
          "output_type": "stream",
          "name": "stdout",
          "text": [
            "66.66666666666666\n"
          ]
        }
      ]
    },
    {
      "cell_type": "code",
      "source": [
        "# Print the Economics accuracy\n",
        "EM=45\n",
        "CGE=30\n",
        "EconomicsAccuracy=(CGE/EM)*100\n",
        "print(EconomicsAccuracy)"
      ],
      "metadata": {
        "id": "fA4Od6IJBUTd",
        "colab": {
          "base_uri": "https://localhost:8080/"
        },
        "outputId": "969b164a-ae3f-4fbb-bac3-70f6e4767462"
      },
      "execution_count": null,
      "outputs": [
        {
          "output_type": "stream",
          "name": "stdout",
          "text": [
            "66.66666666666666\n"
          ]
        }
      ]
    },
    {
      "cell_type": "code",
      "source": [
        "# Print the Physics accuracy\n",
        "PM=25\n",
        "CGP=20\n",
        "PhysicsAccuracy=(CGP/PM)*100\n",
        "print(PhysicsAccuracy)"
      ],
      "metadata": {
        "id": "6QK-StNhBV-6",
        "colab": {
          "base_uri": "https://localhost:8080/"
        },
        "outputId": "8cc0893a-708e-49fb-b577-bc0f32520dcc"
      },
      "execution_count": null,
      "outputs": [
        {
          "output_type": "stream",
          "name": "stdout",
          "text": [
            "80.0\n"
          ]
        }
      ]
    },
    {
      "cell_type": "code",
      "source": [
        "### Calculate your overall accuracy in the entire game\n",
        "MathsAccuracy=66.67\n",
        "EconomicsAccuracy=66.67\n",
        "PhysicsAccuracy=80\n",
        "Overallaccuracy=((MathsAccuracy+EconomicsAccuracy+PhysicsAccuracy)/300)*100\n",
        "print(Overallaccuracy)"
      ],
      "metadata": {
        "id": "ULxD3kW_BXx0",
        "colab": {
          "base_uri": "https://localhost:8080/"
        },
        "outputId": "554a802c-84ce-4d31-a505-aac1342927d9"
      },
      "execution_count": null,
      "outputs": [
        {
          "output_type": "stream",
          "name": "stdout",
          "text": [
            "71.11333333333334\n"
          ]
        }
      ]
    },
    {
      "cell_type": "markdown",
      "source": [
        "* ### Calculate your overall accuracy in the entire game"
      ],
      "metadata": {
        "id": "bIgJYTMoBf85"
      }
    },
    {
      "cell_type": "code",
      "source": [
        "# Print the overall accuracy\n",
        "print(Overallaccuracy)\n"
      ],
      "metadata": {
        "id": "i2UI4VisBZ3R",
        "colab": {
          "base_uri": "https://localhost:8080/"
        },
        "outputId": "2df57c05-73cc-40f4-fb97-faffb7e8b349"
      },
      "execution_count": null,
      "outputs": [
        {
          "output_type": "stream",
          "name": "stdout",
          "text": [
            "71.11333333333334\n"
          ]
        }
      ]
    },
    {
      "cell_type": "code",
      "source": [],
      "metadata": {
        "id": "-QOYq_N2Bk6W"
      },
      "execution_count": null,
      "outputs": []
    }
  ]
}